{
 "cells": [
  {
   "cell_type": "markdown",
   "metadata": {},
   "source": [
    "# Data"
   ]
  },
  {
   "cell_type": "markdown",
   "metadata": {},
   "source": [
    "* **train:** El conjunto de entrenamiento consiste en una porción de los datos de tasa de clics de Jampp durante un período de 7 días, no necesariamente ordenados cronológicamente (sin embargo, se proporciona una columna de tiempo).\n",
    "* **test:** El conjunto de prueba consiste en el tráfico de Jampp del día posterior al período de entrenamiento (calculado/muestreado de la misma manera que el conjunto de entrenamiento)."
   ]
  },
  {
   "cell_type": "markdown",
   "metadata": {},
   "source": [
    "# Variables"
   ]
  },
  {
   "cell_type": "markdown",
   "metadata": {},
   "source": [
    "* **Label:** Variable objetivo que indica si el anuncio fue clickeado (1) o no (0).\n",
    "* **action_categorical_0:** ID de la unidad de negocio. Nivel 1. Estos IDs tienen una relación de uno a muchos (un ID de primer nivel puede tener muchos de segundo nivel, pero un ID de segundo nivel puede tener solo un único ID padre de primer nivel).\n",
    "* **action_categorical_1:** ID de la unidad de negocio. Nivel 2.\n",
    "* **action_categorical_2:** ID de la unidad de negocio. Nivel 3.\n",
    "* **action_categorical_3:** ID de la unidad de negocio. Nivel 4.\n",
    "* **action_categorical_4:** ID de la unidad de negocio. Nivel 5.\n",
    "* **action_categorical_5:** Una variable categórica.\n",
    "* **action_categorical_6:** Una variable categórica.\n",
    "* **action_categorical_7:** Una variable categórica.\n",
    "* **action_list_0:** Una lista de categorías relacionadas con la acción.\n",
    "* **action_list_1:** Una lista de IDs de entidades relacionadas con la acción.\n",
    "* **action_list_2:** Una lista de IDs de entidades relacionadas con la acción.\n",
    "* **auction_time:** El tiempo en que se realizó la subasta. El formato es tiempo UNIX (también conocido como epoch time).\n",
    "* **auction_age:** La edad del usuario.\n",
    "* **auction_bidfloor:** El valor mínimo que se puede ofertar.\n",
    "* **auction_boolean_0:** Una variable booleana relacionada con un atributo de la subasta.\n",
    "* **auction_boolean_1:** Una variable booleana relacionada con un atributo de la subasta.\n",
    "* **auction_boolean_2:** Una variable booleana relacionada con un atributo de la subasta no rastreado.\n",
    "* **auction_categorical_0:** Un ID de entidad relacionado con un componente de la subasta.\n",
    "* **auction_categorical_1:** Un ID de entidad relacionado con un componente de la subasta.\n",
    "* **auction_categorical_2:** Una variable categórica.\n",
    "* **auction_categorical_3:** Una variable categórica.\n",
    "* **auction_categorical_4:** Una variable categórica.\n",
    "* **auction_categorical_5:** Una variable categórica.\n",
    "* **auction_categorical_6:** Una variable categórica.\n",
    "* **auction_categorical_7:** Un ID de entidad relacionado con un componente de la subasta.\n",
    "* **auction_categorical_8:** Un ID de entidad relacionado con un componente de la subasta.\n",
    "* **auction_categorical_9:** Un ID de entidad relacionado con un componente de la subasta.\n",
    "* **auction_categorical_10:** Una variable categórica.\n",
    "* **auction_categorical_11:** Un ID de entidad relacionado con un componente de la subasta.\n",
    "* **auction_categorical_12:** Una variable categórica.\n",
    "* **auction_list_0:** Una lista de categorías relacionadas con la subasta.\n",
    "* **creative_categorical_0:** ID de la unidad de negocio.\n",
    "* **creative_categorical_1:** Una variable categórica.\n",
    "* **creative_categorical_10:** Una variable categórica.\n",
    "* **creative_categorical_11:** Una variable categórica.\n",
    "* **creative_categorical_12:** Una variable categórica.\n",
    "* **creative_categorical_2:** Una variable categórica.\n",
    "* **creative_categorical_3:** Una variable categórica.\n",
    "* **creative_categorical_4:** Una variable categórica.\n",
    "* **creative_categorical_5:** ID de la unidad de negocio.\n",
    "* **creative_categorical_6:** Una variable categórica.\n",
    "* **creative_categorical_7:** Una variable categórica.\n",
    "* **creative_categorical_8:** Una variable categórica.\n",
    "* **creative_categorical_9:** Una variable categórica.\n",
    "* **creative_height:** La altura del creativo (en píxeles).\n",
    "* **creative_width:** El ancho del creativo (en píxeles).\n",
    "* **device_id:** El ID del dispositivo. Este es un identificador único o casi único para un dispositivo.\n",
    "* **device_id_type:** El tipo de ID del dispositivo (existen muchos tipos y un dispositivo puede tener varios de ellos, con un ID diferente para cada tipo).\n",
    "* **gender:** Género.\n",
    "* **has_video:** Un valor booleano que indica si el banner contiene un video.\n",
    "* **timezone_offset:** Diferencia horaria en horas basada en el país y la región de la subasta."
   ]
  },
  {
   "cell_type": "code",
   "execution_count": 3,
   "metadata": {},
   "outputs": [
    {
     "name": "stdout",
     "output_type": "stream",
     "text": [
      "Intel MKL WARNING: Support of Intel(R) Streaming SIMD Extensions 4.2 (Intel(R) SSE4.2) enabled only processors has been deprecated. Intel oneAPI Math Kernel Library 2025.0 will require Intel(R) Advanced Vector Extensions (Intel(R) AVX) instructions.\n",
      "Intel MKL WARNING: Support of Intel(R) Streaming SIMD Extensions 4.2 (Intel(R) SSE4.2) enabled only processors has been deprecated. Intel oneAPI Math Kernel Library 2025.0 will require Intel(R) Advanced Vector Extensions (Intel(R) AVX) instructions.\n"
     ]
    }
   ],
   "source": [
    "import pandas as pd\n",
    "import gc\n",
    "from sklearn.model_selection import GridSearchCV\n",
    "from sklearn.tree import DecisionTreeClassifier\n",
    "from sklearn.pipeline import make_pipeline\n",
    "from sklearn.impute import SimpleImputer\n",
    "from sklearn.metrics import roc_auc_score\n",
    "from sklearn.linear_model import LogisticRegression\n",
    "from sklearn.ensemble import RandomForestClassifier\n",
    "import warnings\n",
    "from sklearn.exceptions import ConvergenceWarning\n",
    "warnings.filterwarnings(\"ignore\", category=ConvergenceWarning)\n",
    "import os"
   ]
  },
  {
   "cell_type": "code",
   "execution_count": 4,
   "metadata": {},
   "outputs": [],
   "source": [
    "random_state = 43992294"
   ]
  },
  {
   "cell_type": "code",
   "execution_count": 5,
   "metadata": {},
   "outputs": [
    {
     "data": {
      "text/plain": [
       "0"
      ]
     },
     "execution_count": 5,
     "metadata": {},
     "output_type": "execute_result"
    }
   ],
   "source": [
    "# Load part of the train data\n",
    "train_data = pd.read_csv(\"data/ctr_21.csv\")\n",
    "\n",
    "# Load the test data\n",
    "eval_data = pd.read_csv(\"data/ctr_test.csv\")\n",
    "\n",
    "# Train a tree on the train data\n",
    "train_data = train_data.sample(frac=1/10)\n",
    "y_train = train_data[\"Label\"]\n",
    "X_train = train_data.drop(columns=[\"Label\"])\n",
    "X_train = X_train.select_dtypes(include='number')\n",
    "del train_data\n",
    "gc.collect()"
   ]
  },
  {
   "cell_type": "markdown",
   "metadata": {},
   "source": [
    "# Arbol de decision"
   ]
  },
  {
   "cell_type": "code",
   "execution_count": 14,
   "metadata": {},
   "outputs": [
    {
     "name": "stdout",
     "output_type": "stream",
     "text": [
      "Mejores hiperparámetros encontrados:\n",
      "criterion: entropy\n",
      "max_depth: 5\n",
      "min_samples_leaf: 10\n",
      "min_samples_split: 2\n",
      "AUC: 0.8168\n"
     ]
    }
   ],
   "source": [
    "# Definir el modelo base con tu random_state\n",
    "decision_tree_base = make_pipeline(SimpleImputer(), DecisionTreeClassifier(random_state=random_state))\n",
    "\n",
    "# Definir los hiperparámetros que quieres probar\n",
    "param_grid = {\n",
    "    'decisiontreeclassifier__max_depth': [5, 8, 10, 15],\n",
    "    'decisiontreeclassifier__min_samples_split': [2, 10, 20],\n",
    "    'decisiontreeclassifier__min_samples_leaf': [1, 5, 10],\n",
    "    'decisiontreeclassifier__criterion': ['gini', 'entropy']\n",
    "}\n",
    "\n",
    "# Crear el GridSearchCV\n",
    "grid_search = GridSearchCV(decision_tree_base, param_grid, cv=5, scoring='roc_auc', n_jobs=-1)\n",
    "\n",
    "# Ajustar el modelo con diferentes combinaciones\n",
    "grid_search.fit(X_train, y_train)\n",
    "\n",
    "# Ver los mejores hiperparámetros encontrados\n",
    "print(\"Mejores hiperparámetros encontrados:\")\n",
    "for param, value in grid_search.best_params_.items():\n",
    "    param_clean = param.replace('decisiontreeclassifier__', '')\n",
    "    print(f\"{param_clean}: {value}\")\n",
    "\n",
    "\n",
    "# Calcular el AUC con el mejor modelo\n",
    "best_model = grid_search.best_estimator_\n",
    "y_pred_proba = best_model.predict_proba(X_train)[:, 1]\n",
    "auc_dt = roc_auc_score(y_train, y_pred_proba)\n",
    "\n",
    "# Imprimir el AUC\n",
    "print(f\"AUC: {auc_dt:.4f}\")"
   ]
  },
  {
   "cell_type": "code",
   "execution_count": 15,
   "metadata": {},
   "outputs": [
    {
     "name": "stdout",
     "output_type": "stream",
     "text": [
      "Archivo guardado en: submits/decision_tree_predictions_5_2_10_entropy.csv\n"
     ]
    }
   ],
   "source": [
    "# Obtener los mejores hiperparámetros del grid search\n",
    "best_params = grid_search.best_params_\n",
    "\n",
    "# Crear el modelo con los mejores hiperparámetros encontrados\n",
    "best_model = DecisionTreeClassifier(\n",
    "    max_depth=best_params['decisiontreeclassifier__max_depth'],\n",
    "    min_samples_split=best_params['decisiontreeclassifier__min_samples_split'],\n",
    "    min_samples_leaf=best_params['decisiontreeclassifier__min_samples_leaf'],\n",
    "    criterion=best_params['decisiontreeclassifier__criterion'],\n",
    "    random_state=random_state\n",
    ")\n",
    "\n",
    "# Crear el pipeline con el mejor modelo\n",
    "decision_tree = make_pipeline(SimpleImputer(), best_model)\n",
    "\n",
    "# Entrenar el modelo con los datos de entrenamiento\n",
    "decision_tree.fit(X_train, y_train)\n",
    "\n",
    "# Predecir en el conjunto de evaluación\n",
    "eval_data = eval_data.select_dtypes(include='number')\n",
    "y_preds = decision_tree.predict_proba(eval_data.drop(columns=[\"id\"]))[:, decision_tree.classes_ == 1].squeeze()\n",
    "\n",
    "# Crear el archivo de envío\n",
    "submission_df = pd.DataFrame({\"id\": eval_data[\"id\"], \"Label\": y_preds})\n",
    "submission_df[\"id\"] = submission_df[\"id\"].astype(int)\n",
    "\n",
    "# Crear el nombre del archivo basado en los mejores hiperparámetros, incluyendo \"decision_tree\" y \"auc_dt\"\n",
    "file_name = (\n",
    "    f\"decision_tree_predictions_{best_params['decisiontreeclassifier__max_depth']}_\"\n",
    "    f\"{best_params['decisiontreeclassifier__min_samples_split']}_\"\n",
    "    f\"{best_params['decisiontreeclassifier__min_samples_leaf']}_\"\n",
    "    f\"{best_params['decisiontreeclassifier__criterion']}_\"\n",
    "    f\"{auc_dt:.4f}.csv\"\n",
    ")\n",
    "\n",
    "# Crear la carpeta \"submits\" si no existe\n",
    "os.makedirs(\"submits\", exist_ok=True)\n",
    "\n",
    "# Guardar el archivo de predicción en la carpeta 'submits'\n",
    "submission_df.to_csv(os.path.join(\"submits\", file_name), sep=\",\", index=False)\n",
    "\n",
    "print(f\"Archivo guardado en: submits/{file_name}\")\n"
   ]
  },
  {
   "cell_type": "markdown",
   "metadata": {},
   "source": [
    "# Regresion Logistica"
   ]
  },
  {
   "cell_type": "code",
   "execution_count": 19,
   "metadata": {},
   "outputs": [],
   "source": [
    "max_iter = 1000"
   ]
  },
  {
   "cell_type": "code",
   "execution_count": 20,
   "metadata": {},
   "outputs": [
    {
     "name": "stdout",
     "output_type": "stream",
     "text": [
      "Intel MKL WARNING: Support of Intel(R) Streaming SIMD Extensions 4.2 (Intel(R) SSE4.2) enabled only processors has been deprecated. Intel oneAPI Math Kernel Library 2025.0 will require Intel(R) Advanced Vector Extensions (Intel(R) AVX) instructions.\n",
      "Intel MKL WARNING: Support of Intel(R) Streaming SIMD Extensions 4.2 (Intel(R) SSE4.2) enabled only processors has been deprecated. Intel oneAPI Math Kernel Library 2025.0 will require Intel(R) Advanced Vector Extensions (Intel(R) AVX) instructions.\n",
      "Intel MKL WARNING: Support of Intel(R) Streaming SIMD Extensions 4.2 (Intel(R) SSE4.2) enabled only processors has been deprecated. Intel oneAPI Math Kernel Library 2025.0 will require Intel(R) Advanced Vector Extensions (Intel(R) AVX) instructions.\n",
      "Intel MKL WARNING: Support of Intel(R) Streaming SIMD Extensions 4.2 (Intel(R) SSE4.2) enabled only processors has been deprecated. Intel oneAPI Math Kernel Library 2025.0 will require Intel(R) Advanced Vector Extensions (Intel(R) AVX) instructions.\n",
      "Intel MKL WARNING: Support of Intel(R) Streaming SIMD Extensions 4.2 (Intel(R) SSE4.2) enabled only processors has been deprecated. Intel oneAPI Math Kernel Library 2025.0 will require Intel(R) Advanced Vector Extensions (Intel(R) AVX) instructions.\n",
      "Intel MKL WARNING: Support of Intel(R) Streaming SIMD Extensions 4.2 (Intel(R) SSE4.2) enabled only processors has been deprecated. Intel oneAPI Math Kernel Library 2025.0 will require Intel(R) Advanced Vector Extensions (Intel(R) AVX) instructions.\n",
      "Intel MKL WARNING: Support of Intel(R) Streaming SIMD Extensions 4.2 (Intel(R) SSE4.2) enabled only processors has been deprecated. Intel oneAPI Math Kernel Library 2025.0 will require Intel(R) Advanced Vector Extensions (Intel(R) AVX) instructions.\n",
      "Intel MKL WARNING: Support of Intel(R) Streaming SIMD Extensions 4.2 (Intel(R) SSE4.2) enabled only processors has been deprecated. Intel oneAPI Math Kernel Library 2025.0 will require Intel(R) Advanced Vector Extensions (Intel(R) AVX) instructions.\n",
      "Intel MKL WARNING: Support of Intel(R) Streaming SIMD Extensions 4.2 (Intel(R) SSE4.2) enabled only processors has been deprecated. Intel oneAPI Math Kernel Library 2025.0 will require Intel(R) Advanced Vector Extensions (Intel(R) AVX) instructions.\n",
      "Intel MKL WARNING: Support of Intel(R) Streaming SIMD Extensions 4.2 (Intel(R) SSE4.2) enabled only processors has been deprecated. Intel oneAPI Math Kernel Library 2025.0 will require Intel(R) Advanced Vector Extensions (Intel(R) AVX) instructions.\n",
      "Intel MKL WARNING: Support of Intel(R) Streaming SIMD Extensions 4.2 (Intel(R) SSE4.2) enabled only processors has been deprecated. Intel oneAPI Math Kernel Library 2025.0 will require Intel(R) Advanced Vector Extensions (Intel(R) AVX) instructions.\n",
      "Intel MKL WARNING: Support of Intel(R) Streaming SIMD Extensions 4.2 (Intel(R) SSE4.2) enabled only processors has been deprecated. Intel oneAPI Math Kernel Library 2025.0 will require Intel(R) Advanced Vector Extensions (Intel(R) AVX) instructions.\n",
      "Intel MKL WARNING: Support of Intel(R) Streaming SIMD Extensions 4.2 (Intel(R) SSE4.2) enabled only processors has been deprecated. Intel oneAPI Math Kernel Library 2025.0 will require Intel(R) Advanced Vector Extensions (Intel(R) AVX) instructions.\n",
      "Intel MKL WARNING: Support of Intel(R) Streaming SIMD Extensions 4.2 (Intel(R) SSE4.2) enabled only processors has been deprecated. Intel oneAPI Math Kernel Library 2025.0 will require Intel(R) Advanced Vector Extensions (Intel(R) AVX) instructions.\n",
      "Intel MKL WARNING: Support of Intel(R) Streaming SIMD Extensions 4.2 (Intel(R) SSE4.2) enabled only processors has been deprecated. Intel oneAPI Math Kernel Library 2025.0 will require Intel(R) Advanced Vector Extensions (Intel(R) AVX) instructions.\n",
      "Intel MKL WARNING: Support of Intel(R) Streaming SIMD Extensions 4.2 (Intel(R) SSE4.2) enabled only processors has been deprecated. Intel oneAPI Math Kernel Library 2025.0 will require Intel(R) Advanced Vector Extensions (Intel(R) AVX) instructions.\n"
     ]
    },
    {
     "name": "stderr",
     "output_type": "stream",
     "text": [
      "/Users/lucamazzarello_/opt/anaconda3/envs/TDVI/lib/python3.9/site-packages/sklearn/linear_model/_sag.py:350: ConvergenceWarning: The max_iter was reached which means the coef_ did not converge\n",
      "  warnings.warn(\n",
      "/Users/lucamazzarello_/opt/anaconda3/envs/TDVI/lib/python3.9/site-packages/sklearn/linear_model/_sag.py:350: ConvergenceWarning: The max_iter was reached which means the coef_ did not converge\n",
      "  warnings.warn(\n",
      "/Users/lucamazzarello_/opt/anaconda3/envs/TDVI/lib/python3.9/site-packages/sklearn/linear_model/_sag.py:350: ConvergenceWarning: The max_iter was reached which means the coef_ did not converge\n",
      "  warnings.warn(\n",
      "/Users/lucamazzarello_/opt/anaconda3/envs/TDVI/lib/python3.9/site-packages/sklearn/linear_model/_sag.py:350: ConvergenceWarning: The max_iter was reached which means the coef_ did not converge\n",
      "  warnings.warn(\n",
      "/Users/lucamazzarello_/opt/anaconda3/envs/TDVI/lib/python3.9/site-packages/sklearn/linear_model/_sag.py:350: ConvergenceWarning: The max_iter was reached which means the coef_ did not converge\n",
      "  warnings.warn(\n",
      "/Users/lucamazzarello_/opt/anaconda3/envs/TDVI/lib/python3.9/site-packages/sklearn/linear_model/_sag.py:350: ConvergenceWarning: The max_iter was reached which means the coef_ did not converge\n",
      "  warnings.warn(\n",
      "/Users/lucamazzarello_/opt/anaconda3/envs/TDVI/lib/python3.9/site-packages/sklearn/linear_model/_sag.py:350: ConvergenceWarning: The max_iter was reached which means the coef_ did not converge\n",
      "  warnings.warn(\n",
      "/Users/lucamazzarello_/opt/anaconda3/envs/TDVI/lib/python3.9/site-packages/sklearn/linear_model/_sag.py:350: ConvergenceWarning: The max_iter was reached which means the coef_ did not converge\n",
      "  warnings.warn(\n",
      "/Users/lucamazzarello_/opt/anaconda3/envs/TDVI/lib/python3.9/site-packages/sklearn/linear_model/_sag.py:350: ConvergenceWarning: The max_iter was reached which means the coef_ did not converge\n",
      "  warnings.warn(\n",
      "/Users/lucamazzarello_/opt/anaconda3/envs/TDVI/lib/python3.9/site-packages/sklearn/linear_model/_sag.py:350: ConvergenceWarning: The max_iter was reached which means the coef_ did not converge\n",
      "  warnings.warn(\n",
      "/Users/lucamazzarello_/opt/anaconda3/envs/TDVI/lib/python3.9/site-packages/sklearn/linear_model/_sag.py:350: ConvergenceWarning: The max_iter was reached which means the coef_ did not converge\n",
      "  warnings.warn(\n",
      "/Users/lucamazzarello_/opt/anaconda3/envs/TDVI/lib/python3.9/site-packages/sklearn/linear_model/_sag.py:350: ConvergenceWarning: The max_iter was reached which means the coef_ did not converge\n",
      "  warnings.warn(\n",
      "/Users/lucamazzarello_/opt/anaconda3/envs/TDVI/lib/python3.9/site-packages/sklearn/linear_model/_sag.py:350: ConvergenceWarning: The max_iter was reached which means the coef_ did not converge\n",
      "  warnings.warn(\n",
      "/Users/lucamazzarello_/opt/anaconda3/envs/TDVI/lib/python3.9/site-packages/sklearn/linear_model/_sag.py:350: ConvergenceWarning: The max_iter was reached which means the coef_ did not converge\n",
      "  warnings.warn(\n",
      "/Users/lucamazzarello_/opt/anaconda3/envs/TDVI/lib/python3.9/site-packages/sklearn/linear_model/_sag.py:350: ConvergenceWarning: The max_iter was reached which means the coef_ did not converge\n",
      "  warnings.warn(\n",
      "/Users/lucamazzarello_/opt/anaconda3/envs/TDVI/lib/python3.9/site-packages/sklearn/linear_model/_sag.py:350: ConvergenceWarning: The max_iter was reached which means the coef_ did not converge\n",
      "  warnings.warn(\n",
      "/Users/lucamazzarello_/opt/anaconda3/envs/TDVI/lib/python3.9/site-packages/sklearn/linear_model/_sag.py:350: ConvergenceWarning: The max_iter was reached which means the coef_ did not converge\n",
      "  warnings.warn(\n",
      "/Users/lucamazzarello_/opt/anaconda3/envs/TDVI/lib/python3.9/site-packages/sklearn/linear_model/_sag.py:350: ConvergenceWarning: The max_iter was reached which means the coef_ did not converge\n",
      "  warnings.warn(\n",
      "/Users/lucamazzarello_/opt/anaconda3/envs/TDVI/lib/python3.9/site-packages/sklearn/linear_model/_sag.py:350: ConvergenceWarning: The max_iter was reached which means the coef_ did not converge\n",
      "  warnings.warn(\n",
      "/Users/lucamazzarello_/opt/anaconda3/envs/TDVI/lib/python3.9/site-packages/sklearn/linear_model/_sag.py:350: ConvergenceWarning: The max_iter was reached which means the coef_ did not converge\n",
      "  warnings.warn(\n",
      "/Users/lucamazzarello_/opt/anaconda3/envs/TDVI/lib/python3.9/site-packages/sklearn/linear_model/_sag.py:350: ConvergenceWarning: The max_iter was reached which means the coef_ did not converge\n",
      "  warnings.warn(\n",
      "/Users/lucamazzarello_/opt/anaconda3/envs/TDVI/lib/python3.9/site-packages/sklearn/linear_model/_sag.py:350: ConvergenceWarning: The max_iter was reached which means the coef_ did not converge\n",
      "  warnings.warn(\n",
      "/Users/lucamazzarello_/opt/anaconda3/envs/TDVI/lib/python3.9/site-packages/sklearn/linear_model/_sag.py:350: ConvergenceWarning: The max_iter was reached which means the coef_ did not converge\n",
      "  warnings.warn(\n",
      "/Users/lucamazzarello_/opt/anaconda3/envs/TDVI/lib/python3.9/site-packages/sklearn/linear_model/_sag.py:350: ConvergenceWarning: The max_iter was reached which means the coef_ did not converge\n",
      "  warnings.warn(\n",
      "/Users/lucamazzarello_/opt/anaconda3/envs/TDVI/lib/python3.9/site-packages/sklearn/linear_model/_sag.py:350: ConvergenceWarning: The max_iter was reached which means the coef_ did not converge\n",
      "  warnings.warn(\n",
      "/Users/lucamazzarello_/opt/anaconda3/envs/TDVI/lib/python3.9/site-packages/sklearn/linear_model/_sag.py:350: ConvergenceWarning: The max_iter was reached which means the coef_ did not converge\n",
      "  warnings.warn(\n",
      "/Users/lucamazzarello_/opt/anaconda3/envs/TDVI/lib/python3.9/site-packages/sklearn/linear_model/_sag.py:350: ConvergenceWarning: The max_iter was reached which means the coef_ did not converge\n",
      "  warnings.warn(\n",
      "/Users/lucamazzarello_/opt/anaconda3/envs/TDVI/lib/python3.9/site-packages/sklearn/linear_model/_sag.py:350: ConvergenceWarning: The max_iter was reached which means the coef_ did not converge\n",
      "  warnings.warn(\n",
      "/Users/lucamazzarello_/opt/anaconda3/envs/TDVI/lib/python3.9/site-packages/sklearn/linear_model/_sag.py:350: ConvergenceWarning: The max_iter was reached which means the coef_ did not converge\n",
      "  warnings.warn(\n",
      "/Users/lucamazzarello_/opt/anaconda3/envs/TDVI/lib/python3.9/site-packages/sklearn/linear_model/_sag.py:350: ConvergenceWarning: The max_iter was reached which means the coef_ did not converge\n",
      "  warnings.warn(\n",
      "/Users/lucamazzarello_/opt/anaconda3/envs/TDVI/lib/python3.9/site-packages/sklearn/linear_model/_sag.py:350: ConvergenceWarning: The max_iter was reached which means the coef_ did not converge\n",
      "  warnings.warn(\n",
      "/Users/lucamazzarello_/opt/anaconda3/envs/TDVI/lib/python3.9/site-packages/sklearn/linear_model/_sag.py:350: ConvergenceWarning: The max_iter was reached which means the coef_ did not converge\n",
      "  warnings.warn(\n",
      "/Users/lucamazzarello_/opt/anaconda3/envs/TDVI/lib/python3.9/site-packages/sklearn/linear_model/_sag.py:350: ConvergenceWarning: The max_iter was reached which means the coef_ did not converge\n",
      "  warnings.warn(\n",
      "/Users/lucamazzarello_/opt/anaconda3/envs/TDVI/lib/python3.9/site-packages/sklearn/linear_model/_sag.py:350: ConvergenceWarning: The max_iter was reached which means the coef_ did not converge\n",
      "  warnings.warn(\n",
      "/Users/lucamazzarello_/opt/anaconda3/envs/TDVI/lib/python3.9/site-packages/sklearn/linear_model/_sag.py:350: ConvergenceWarning: The max_iter was reached which means the coef_ did not converge\n",
      "  warnings.warn(\n",
      "/Users/lucamazzarello_/opt/anaconda3/envs/TDVI/lib/python3.9/site-packages/sklearn/linear_model/_sag.py:350: ConvergenceWarning: The max_iter was reached which means the coef_ did not converge\n",
      "  warnings.warn(\n",
      "/Users/lucamazzarello_/opt/anaconda3/envs/TDVI/lib/python3.9/site-packages/sklearn/linear_model/_sag.py:350: ConvergenceWarning: The max_iter was reached which means the coef_ did not converge\n",
      "  warnings.warn(\n",
      "/Users/lucamazzarello_/opt/anaconda3/envs/TDVI/lib/python3.9/site-packages/sklearn/linear_model/_sag.py:350: ConvergenceWarning: The max_iter was reached which means the coef_ did not converge\n",
      "  warnings.warn(\n",
      "/Users/lucamazzarello_/opt/anaconda3/envs/TDVI/lib/python3.9/site-packages/sklearn/linear_model/_sag.py:350: ConvergenceWarning: The max_iter was reached which means the coef_ did not converge\n",
      "  warnings.warn(\n",
      "/Users/lucamazzarello_/opt/anaconda3/envs/TDVI/lib/python3.9/site-packages/sklearn/linear_model/_sag.py:350: ConvergenceWarning: The max_iter was reached which means the coef_ did not converge\n",
      "  warnings.warn(\n",
      "/Users/lucamazzarello_/opt/anaconda3/envs/TDVI/lib/python3.9/site-packages/sklearn/linear_model/_sag.py:350: ConvergenceWarning: The max_iter was reached which means the coef_ did not converge\n",
      "  warnings.warn(\n",
      "/Users/lucamazzarello_/opt/anaconda3/envs/TDVI/lib/python3.9/site-packages/sklearn/linear_model/_sag.py:350: ConvergenceWarning: The max_iter was reached which means the coef_ did not converge\n",
      "  warnings.warn(\n",
      "/Users/lucamazzarello_/opt/anaconda3/envs/TDVI/lib/python3.9/site-packages/sklearn/linear_model/_sag.py:350: ConvergenceWarning: The max_iter was reached which means the coef_ did not converge\n",
      "  warnings.warn(\n",
      "/Users/lucamazzarello_/opt/anaconda3/envs/TDVI/lib/python3.9/site-packages/sklearn/linear_model/_sag.py:350: ConvergenceWarning: The max_iter was reached which means the coef_ did not converge\n",
      "  warnings.warn(\n",
      "/Users/lucamazzarello_/opt/anaconda3/envs/TDVI/lib/python3.9/site-packages/sklearn/linear_model/_sag.py:350: ConvergenceWarning: The max_iter was reached which means the coef_ did not converge\n",
      "  warnings.warn(\n",
      "/Users/lucamazzarello_/opt/anaconda3/envs/TDVI/lib/python3.9/site-packages/sklearn/linear_model/_sag.py:350: ConvergenceWarning: The max_iter was reached which means the coef_ did not converge\n",
      "  warnings.warn(\n",
      "/Users/lucamazzarello_/opt/anaconda3/envs/TDVI/lib/python3.9/site-packages/sklearn/linear_model/_sag.py:350: ConvergenceWarning: The max_iter was reached which means the coef_ did not converge\n",
      "  warnings.warn(\n",
      "/Users/lucamazzarello_/opt/anaconda3/envs/TDVI/lib/python3.9/site-packages/sklearn/linear_model/_sag.py:350: ConvergenceWarning: The max_iter was reached which means the coef_ did not converge\n",
      "  warnings.warn(\n",
      "/Users/lucamazzarello_/opt/anaconda3/envs/TDVI/lib/python3.9/site-packages/sklearn/linear_model/_sag.py:350: ConvergenceWarning: The max_iter was reached which means the coef_ did not converge\n",
      "  warnings.warn(\n",
      "/Users/lucamazzarello_/opt/anaconda3/envs/TDVI/lib/python3.9/site-packages/sklearn/linear_model/_sag.py:350: ConvergenceWarning: The max_iter was reached which means the coef_ did not converge\n",
      "  warnings.warn(\n"
     ]
    },
    {
     "name": "stdout",
     "output_type": "stream",
     "text": [
      "Mejores hiperparámetros encontrados:\n",
      "logisticregression__C: 1\n",
      "logisticregression__class_weight: balanced\n",
      "logisticregression__penalty: l1\n",
      "logisticregression__solver: liblinear\n",
      "AUC: 0.7443\n"
     ]
    }
   ],
   "source": [
    "# Definir el modelo base de regresión logística\n",
    "logistic_model_base = LogisticRegression(random_state=random_state, max_iter=max_iter)\n",
    "\n",
    "# Crear el pipeline\n",
    "pipeline = make_pipeline(SimpleImputer(), logistic_model_base)\n",
    "\n",
    "# Definir los hiperparámetros\n",
    "param_grid = {\n",
    "    'logisticregression__penalty': ['l1', 'l2'],\n",
    "    'logisticregression__C': [0.01, 0.1, 1, 10, 100],\n",
    "    'logisticregression__solver': ['liblinear', 'saga'],\n",
    "    'logisticregression__class_weight': [None, 'balanced']\n",
    "}\n",
    "\n",
    "# Crear GridSearchCV\n",
    "grid_search_logistic = GridSearchCV(pipeline, param_grid, cv=5, scoring='roc_auc', n_jobs=-1)\n",
    "grid_search_logistic.fit(X_train, y_train)\n",
    "\n",
    "# Ver los mejores hiperparámetros encontrados\n",
    "print(\"Mejores hiperparámetros encontrados:\")\n",
    "for param, value in grid_search_logistic.best_params_.items():\n",
    "    param_clean = param.replace('logisticregression__', '')\n",
    "    print(f\"{param_clean}: {value}\")\n",
    "\n",
    "\n",
    "# Calcular el AUC con el mejor modelo\n",
    "best_model = grid_search_logistic.best_estimator_\n",
    "y_pred_proba = best_model.predict_proba(X_train)[:, 1]\n",
    "auc_rl = roc_auc_score(y_train, y_pred_proba)\n",
    "\n",
    "# Imprimir el AUC\n",
    "print(f\"AUC: {auc_rl:.4f}\")"
   ]
  },
  {
   "cell_type": "code",
   "execution_count": 21,
   "metadata": {},
   "outputs": [
    {
     "name": "stdout",
     "output_type": "stream",
     "text": [
      "Archivo guardado en: submits/logistic_regression_predictions_l1_C_1_solver_liblinear_class_weight_balanced.csv\n"
     ]
    }
   ],
   "source": [
    "# Obtener los mejores hiperparámetros del grid search de regresión logística\n",
    "best_params = grid_search_logistic.best_params_\n",
    "\n",
    "# Crear el modelo con los mejores hiperparámetros encontrados\n",
    "best_model = LogisticRegression(\n",
    "    penalty=best_params['logisticregression__penalty'],\n",
    "    C=best_params['logisticregression__C'],\n",
    "    solver=best_params['logisticregression__solver'],\n",
    "    class_weight=best_params['logisticregression__class_weight'],\n",
    "    random_state=random_state,\n",
    "    max_iter=max_iter\n",
    ")\n",
    "\n",
    "# Crear el pipeline con el mejor modelo\n",
    "logistic_pipeline = make_pipeline(SimpleImputer(), best_model)\n",
    "\n",
    "# Entrenar el modelo con los datos de entrenamiento\n",
    "logistic_pipeline.fit(X_train, y_train)\n",
    "\n",
    "# Predecir en el conjunto de evaluación\n",
    "eval_data = eval_data.select_dtypes(include='number')\n",
    "y_preds_logistic = logistic_pipeline.predict_proba(eval_data.drop(columns=[\"id\"]))[:, 1]\n",
    "\n",
    "# Crear el archivo de envío\n",
    "submission_df_logistic = pd.DataFrame({\"id\": eval_data[\"id\"], \"Label\": y_preds_logistic})\n",
    "submission_df_logistic[\"id\"] = submission_df_logistic[\"id\"].astype(int)\n",
    "\n",
    "# Crear el nombre del archivo basado en los mejores hiperparámetros, incluyendo \"logistic_regression\"\n",
    "file_name_logistic = (\n",
    "    f\"logistic_regression_predictions_{best_params['logisticregression__penalty']}_\"\n",
    "    f\"C_{best_params['logisticregression__C']}_\"\n",
    "    f\"solver_{best_params['logisticregression__solver']}_\"\n",
    "    f\"class_weight_{best_params['logisticregression__class_weight']}.csv\"\n",
    "    f\"{auc_rl:.4f}.csv\"\n",
    ")\n",
    "\n",
    "# Crear la carpeta \"submits\" si no existe\n",
    "os.makedirs(\"submits\", exist_ok=True)\n",
    "\n",
    "# Guardar el archivo de predicción en la carpeta 'submits'\n",
    "submission_df_logistic.to_csv(os.path.join(\"submits\", file_name_logistic), sep=\",\", index=False)\n",
    "\n",
    "print(f\"Archivo guardado en: submits/{file_name_logistic}\")\n"
   ]
  },
  {
   "cell_type": "markdown",
   "metadata": {},
   "source": [
    "# Random Forest"
   ]
  },
  {
   "cell_type": "code",
   "execution_count": 2,
   "metadata": {},
   "outputs": [
    {
     "ename": "NameError",
     "evalue": "name 'RandomForestClassifier' is not defined",
     "output_type": "error",
     "traceback": [
      "\u001b[0;31m---------------------------------------------------------------------------\u001b[0m",
      "\u001b[0;31mNameError\u001b[0m                                 Traceback (most recent call last)",
      "Cell \u001b[0;32mIn[2], line 2\u001b[0m\n\u001b[1;32m      1\u001b[0m \u001b[38;5;66;03m# Definir el modelo base de Random Forest\u001b[39;00m\n\u001b[0;32m----> 2\u001b[0m rf_model \u001b[38;5;241m=\u001b[39m \u001b[43mRandomForestClassifier\u001b[49m(random_state\u001b[38;5;241m=\u001b[39mrandom_state)\n\u001b[1;32m      4\u001b[0m \u001b[38;5;66;03m# Crear el pipeline\u001b[39;00m\n\u001b[1;32m      5\u001b[0m pipeline_rf \u001b[38;5;241m=\u001b[39m make_pipeline(SimpleImputer(), rf_model)\n",
      "\u001b[0;31mNameError\u001b[0m: name 'RandomForestClassifier' is not defined"
     ]
    }
   ],
   "source": [
    "# Definir el modelo base de Random Forest\n",
    "rf_model = RandomForestClassifier(random_state=random_state)\n",
    "\n",
    "# Crear el pipeline\n",
    "pipeline_rf = make_pipeline(SimpleImputer(), rf_model)\n",
    "\n",
    "# Definir los hiperparámetros\n",
    "param_grid_rf = {\n",
    "    'randomforestclassifier__n_estimators': [100, 200, 500],\n",
    "    'randomforestclassifier__max_depth': [10, 20, None],\n",
    "    'randomforestclassifier__min_samples_split': [2, 10, 20],\n",
    "    'randomforestclassifier__min_samples_leaf': [1, 5, 10],\n",
    "    'randomforestclassifier__class_weight': [None, 'balanced']\n",
    "}\n",
    "\n",
    "# Crear GridSearchCV\n",
    "grid_search_rf = GridSearchCV(pipeline_rf, param_grid_rf, cv=5, scoring='roc_auc', n_jobs=-1)\n",
    "grid_search_rf.fit(X_train, y_train)\n",
    "\n",
    "# Ver los mejores hiperparámetros encontrados\n",
    "print(\"Mejores hiperparámetros encontrados:\")\n",
    "for param, value in grid_search_rf.best_params_.items():\n",
    "    param_clean = param.replace('randomforestclassifier__', '')\n",
    "    print(f\"{param_clean}: {value}\")\n",
    "\n",
    "\n",
    "# Calcular el AUC con el mejor modelo\n",
    "best_model = grid_search_rf.best_estimator_\n",
    "y_pred_proba = best_model.predict_proba(X_train)[:, 1]\n",
    "auc_rf = roc_auc_score(y_train, y_pred_proba)\n",
    "\n",
    "# Imprimir el AUC\n",
    "print(f\"AUC: {auc_rf:.4f}\")"
   ]
  },
  {
   "cell_type": "code",
   "execution_count": 1,
   "metadata": {},
   "outputs": [
    {
     "ename": "NameError",
     "evalue": "name 'grid_search_rf' is not defined",
     "output_type": "error",
     "traceback": [
      "\u001b[0;31m---------------------------------------------------------------------------\u001b[0m",
      "\u001b[0;31mNameError\u001b[0m                                 Traceback (most recent call last)",
      "Cell \u001b[0;32mIn[1], line 2\u001b[0m\n\u001b[1;32m      1\u001b[0m \u001b[38;5;66;03m# Obtener los mejores hiperparámetros del grid search de Random Forest\u001b[39;00m\n\u001b[0;32m----> 2\u001b[0m best_params \u001b[38;5;241m=\u001b[39m \u001b[43mgrid_search_rf\u001b[49m\u001b[38;5;241m.\u001b[39mbest_params_\n\u001b[1;32m      4\u001b[0m \u001b[38;5;66;03m# Crear el modelo con los mejores hiperparámetros encontrados\u001b[39;00m\n\u001b[1;32m      5\u001b[0m best_model_rf \u001b[38;5;241m=\u001b[39m RandomForestClassifier(\n\u001b[1;32m      6\u001b[0m     n_estimators\u001b[38;5;241m=\u001b[39mbest_params[\u001b[38;5;124m'\u001b[39m\u001b[38;5;124mrandomforestclassifier__n_estimators\u001b[39m\u001b[38;5;124m'\u001b[39m],\n\u001b[1;32m      7\u001b[0m     max_depth\u001b[38;5;241m=\u001b[39mbest_params[\u001b[38;5;124m'\u001b[39m\u001b[38;5;124mrandomforestclassifier__max_depth\u001b[39m\u001b[38;5;124m'\u001b[39m],\n\u001b[0;32m   (...)\u001b[0m\n\u001b[1;32m     11\u001b[0m     random_state\u001b[38;5;241m=\u001b[39mrandom_state\n\u001b[1;32m     12\u001b[0m )\n",
      "\u001b[0;31mNameError\u001b[0m: name 'grid_search_rf' is not defined"
     ]
    }
   ],
   "source": [
    "# Obtener los mejores hiperparámetros del grid search de Random Forest\n",
    "best_params = grid_search_rf.best_params_\n",
    "\n",
    "# Crear el modelo con los mejores hiperparámetros encontrados\n",
    "best_model_rf = RandomForestClassifier(\n",
    "    n_estimators=best_params['randomforestclassifier__n_estimators'],\n",
    "    max_depth=best_params['randomforestclassifier__max_depth'],\n",
    "    min_samples_split=best_params['randomforestclassifier__min_samples_split'],\n",
    "    min_samples_leaf=best_params['randomforestclassifier__min_samples_leaf'],\n",
    "    class_weight=best_params['randomforestclassifier__class_weight'],\n",
    "    random_state=random_state\n",
    ")\n",
    "\n",
    "# Crear el pipeline con el mejor modelo\n",
    "rf_pipeline = make_pipeline(SimpleImputer(), best_model_rf)\n",
    "\n",
    "# Entrenar el modelo con los datos de entrenamiento\n",
    "rf_pipeline.fit(X_train, y_train)\n",
    "\n",
    "# Predecir en el conjunto de evaluación\n",
    "eval_data = eval_data.select_dtypes(include='number')\n",
    "y_preds_rf = rf_pipeline.predict_proba(eval_data.drop(columns=[\"id\"]))[:, 1]\n",
    "\n",
    "# Crear el archivo de envío\n",
    "submission_df_rf = pd.DataFrame({\"id\": eval_data[\"id\"], \"Label\": y_preds_rf})\n",
    "submission_df_rf[\"id\"] = submission_df_rf[\"id\"].astype(int)\n",
    "\n",
    "# Crear el nombre del archivo basado en los mejores hiperparámetros de Random Forest\n",
    "file_name_rf = (\n",
    "    f\"random_forest_predictions_n_estimators_{best_params['randomforestclassifier__n_estimators']}_\"\n",
    "    f\"max_depth_{best_params['randomforestclassifier__max_depth']}_\"\n",
    "    f\"min_samples_split_{best_params['randomforestclassifier__min_samples_split']}_\"\n",
    "    f\"min_samples_leaf_{best_params['randomforestclassifier__min_samples_leaf']}_\"\n",
    "    f\"class_weight_{best_params['randomforestclassifier__class_weight']}.csv\"\n",
    "    f\"{auc_rf:.4f}.csv\"\n",
    ")\n",
    "\n",
    "# Crear la carpeta \"submits\" si no existe\n",
    "os.makedirs(\"submits\", exist_ok=True)\n",
    "\n",
    "# Guardar el archivo de predicción en la carpeta 'submits'\n",
    "submission_df_rf.to_csv(os.path.join(\"submits\", file_name_rf), sep=\",\", index=False)\n",
    "\n",
    "print(f\"Archivo guardado en: submits/{file_name_rf}\")\n"
   ]
  }
 ],
 "metadata": {
  "kernelspec": {
   "display_name": "TDVI",
   "language": "python",
   "name": "python3"
  },
  "language_info": {
   "codemirror_mode": {
    "name": "ipython",
    "version": 3
   },
   "file_extension": ".py",
   "mimetype": "text/x-python",
   "name": "python",
   "nbconvert_exporter": "python",
   "pygments_lexer": "ipython3",
   "version": "3.9.18"
  }
 },
 "nbformat": 4,
 "nbformat_minor": 2
}
